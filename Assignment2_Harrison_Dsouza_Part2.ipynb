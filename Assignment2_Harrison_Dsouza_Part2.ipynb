{
 "cells": [
  {
   "cell_type": "markdown",
   "metadata": {},
   "source": [
    "<h1>Assignment-2<h1>\n",
    "<h3>By Harrison Daniel Dsouza - 991720053</h3>\n",
    "<br><br>\n",
    "<h3>3. Consuming the web service</h3>\n",
    "<p>Here I am testing the web service I created in Part1 of the assignment making necessary requests to the endpoints I defined</p>"
   ]
  },
  {
   "cell_type": "code",
   "execution_count": 39,
   "metadata": {},
   "outputs": [],
   "source": [
    "import requests"
   ]
  },
  {
   "cell_type": "code",
   "execution_count": 40,
   "metadata": {},
   "outputs": [],
   "source": [
    "# Requesting sample data to understand the format and the necessary variables required to pass to make a prediction.\n",
    "sample = requests.get(\"http://127.0.0.1:5000/score/sample\")"
   ]
  },
  {
   "cell_type": "code",
   "execution_count": 41,
   "metadata": {},
   "outputs": [],
   "source": [
    "#Requesting an explanation for the sample data that was returned from the previous get request.\n",
    "explanation = requests.get(\"http://127.0.0.1:5000/score/explain\")"
   ]
  },
  {
   "cell_type": "code",
   "execution_count": 42,
   "metadata": {},
   "outputs": [
    {
     "name": "stdout",
     "output_type": "stream",
     "text": [
      "{\n",
      "    \"absence_days\": 3,\n",
      "    \"biology_score\": 63,\n",
      "    \"chemistry_score\": 97,\n",
      "    \"english_score\": 80,\n",
      "    \"extracurricular_activities\": 0,\n",
      "    \"gender\": 0,\n",
      "    \"geography_score\": 87,\n",
      "    \"history_score\": 81,\n",
      "    \"math_score\": 73,\n",
      "    \"part_time_job\": 0,\n",
      "    \"physics_score\": 93,\n",
      "    \"weekly_self_study_hours\": 27\n",
      "}\n",
      "{\n",
      "    \"absence_days\": \"Number of days the student was absent. Enter an integer value.\",\n",
      "    \"biology_score\": \"Score obtained in Biology. Enter an integer value.\",\n",
      "    \"chemistry_score\": \"Score obtained in Chemistry. Enter an integer value.\",\n",
      "    \"english_score\": \"Score obtained in English. Enter an integer value.\",\n",
      "    \"extracurricular_activities\": \"Indicates whether the student participates in extracurricular activities. Enter 1 for Yes, 0 for No.\",\n",
      "    \"gender\": \"Represents the gender of the student. Enter 0 for Male, 1 for Female.\",\n",
      "    \"geography_score\": \"Score obtained in Geography. Enter an integer value.\",\n",
      "    \"history_score\": \"Score obtained in History. Enter an integer value.\",\n",
      "    \"part_time_job\": \"Indicates whether the student has a part-time job. Enter 1 for Yes, 0 for No.\",\n",
      "    \"physics_score\": \"Score obtained in Physics. Enter an integer value.\",\n",
      "    \"weekly_self_study_hours\": \"Number of hours the student spends on self-study each week. Enter an integer value.\"\n",
      "}\n"
     ]
    }
   ],
   "source": [
    "#Here I am creating a functiom that outputs (prints) the response in the way we can see in POSTMAN.\n",
    "\n",
    "import json\n",
    "def jsonPrint(obj):\n",
    "    text = json.dumps(obj, sort_keys = True, indent = 4)\n",
    "    print(text)\n",
    "\n",
    "jsonPrint(sample.json())\n",
    "jsonPrint(explanation.json())"
   ]
  },
  {
   "cell_type": "code",
   "execution_count": 43,
   "metadata": {},
   "outputs": [],
   "source": [
    "#Defining the new data that is going to go into the body of the POST request\n",
    "newData = {\"gender\": 0,\n",
    "           \"part_time_job\": 1, \n",
    "           \"absence_days\": 0, \n",
    "           \"extracurricular_activities\": 1, \n",
    "           \"weekly_self_study_hours\": 20,\n",
    "           \"history_score\": 96, \n",
    "           \"physics_score\": 96, \n",
    "           \"chemistry_score\": 93, \n",
    "           \"biology_score\": 80, \n",
    "           \"english_score\": 95, \n",
    "           \"geography_score\": 94}"
   ]
  },
  {
   "cell_type": "code",
   "execution_count": 44,
   "metadata": {},
   "outputs": [],
   "source": [
    "#Moment of truth! Here I am making the post request to the '/score/evaluate' endpoint with the newData JSON\n",
    "predictionResponse = requests.post(\"http://127.0.0.1:5000/score/evaluate\", json = newData)"
   ]
  },
  {
   "cell_type": "code",
   "execution_count": 45,
   "metadata": {},
   "outputs": [
    {
     "name": "stdout",
     "output_type": "stream",
     "text": [
      "{\n",
      "    \"Will the student score above 85 in math?\": \"Yes\"\n",
      "}\n"
     ]
    }
   ],
   "source": [
    "#Yay! It works and I will score above 85 in math too.\n",
    "jsonPrint(predictionResponse.json())"
   ]
  }
 ],
 "metadata": {
  "kernelspec": {
   "display_name": "Python 3",
   "language": "python",
   "name": "python3"
  },
  "language_info": {
   "codemirror_mode": {
    "name": "ipython",
    "version": 3
   },
   "file_extension": ".py",
   "mimetype": "text/x-python",
   "name": "python",
   "nbconvert_exporter": "python",
   "pygments_lexer": "ipython3",
   "version": "3.11.3"
  }
 },
 "nbformat": 4,
 "nbformat_minor": 2
}
